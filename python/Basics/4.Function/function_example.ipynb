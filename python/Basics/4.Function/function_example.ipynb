{
 "cells": [
  {
   "cell_type": "markdown",
   "metadata": {},
   "source": [
    "Temperature Check"
   ]
  },
  {
   "cell_type": "code",
   "execution_count": 8,
   "metadata": {},
   "outputs": [
    {
     "name": "stdout",
     "output_type": "stream",
     "text": [
      "37.77777777777778\n",
      "77.0\n"
     ]
    }
   ],
   "source": [
    "def check_Temperature(value, unit):\n",
    "    if unit == 'C':\n",
    "        return (value * 9/5) +32 \n",
    "    elif unit == 'F':\n",
    "        return (value - 32) * 5/9\n",
    "    else:\n",
    "        return None\n",
    "\n",
    "print(check_Temperature(100,'F'))\n",
    "print(check_Temperature(25,'C'))"
   ]
  },
  {
   "cell_type": "markdown",
   "metadata": {},
   "source": [
    "Password Checker"
   ]
  },
  {
   "cell_type": "code",
   "execution_count": 11,
   "metadata": {},
   "outputs": [
    {
     "name": "stdout",
     "output_type": "stream",
     "text": [
      "True\n"
     ]
    }
   ],
   "source": [
    "def password_checker(password):\n",
    "    \"\"\"\n",
    "    lowercase + digit + special char + uppercase \n",
    "    \"\"\"\n",
    "    if not any(char.isupper() for char in password):\n",
    "        return False\n",
    "    if not any(char.islower() for char in password):\n",
    "        return False\n",
    "    if not any(char.isdigit() for char in password):\n",
    "        return False\n",
    "    if not any(char in '!@#$%^^&*()' for char in password):\n",
    "        return False\n",
    "    return True\n",
    "\n",
    "print(password_checker('WeakPass@123'))"
   ]
  },
  {
   "cell_type": "markdown",
   "metadata": {},
   "source": [
    "Read & Count Words"
   ]
  },
  {
   "cell_type": "code",
   "execution_count": 15,
   "metadata": {},
   "outputs": [
    {
     "name": "stdout",
     "output_type": "stream",
     "text": [
      "['Hello', 'Hello', 'Hello']\n",
      "['How', 'are', 'u']\n",
      "None\n"
     ]
    }
   ],
   "source": [
    "def readFile(file_path):\n",
    "    word_count = {}\n",
    "\n",
    "    with open(file_path,'r') as file:\n",
    "        for line in file :\n",
    "            words = line.split()\n",
    "            print(words)\n",
    "            for word in words:\n",
    "                word_count[word] =word_count.get(word.strip(\"\"),0)+1\n",
    "    return word_count\n",
    "\n",
    "print(readFile('file.txt'))"
   ]
  }
 ],
 "metadata": {
  "kernelspec": {
   "display_name": "Python 3",
   "language": "python",
   "name": "python3"
  },
  "language_info": {
   "codemirror_mode": {
    "name": "ipython",
    "version": 3
   },
   "file_extension": ".py",
   "mimetype": "text/x-python",
   "name": "python",
   "nbconvert_exporter": "python",
   "pygments_lexer": "ipython3",
   "version": "3.11.8"
  }
 },
 "nbformat": 4,
 "nbformat_minor": 2
}
